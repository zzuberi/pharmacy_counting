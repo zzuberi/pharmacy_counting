{
 "cells": [
  {
   "cell_type": "code",
   "execution_count": null,
   "metadata": {
    "collapsed": true
   },
   "outputs": [],
   "source": [
    "import csv"
   ]
  },
  {
   "cell_type": "code",
   "execution_count": null,
   "metadata": {
    "collapsed": true
   },
   "outputs": [],
   "source": [
    "def cleanName(names):\n",
    "    for name in names:\n",
    "        if name is not '':\n",
    "            name = str.upper(name[0]) + str.lower(name[1:])\n",
    "    print names[0] + ' ' +names[1]\n",
    "    return names[0]+names[1]"
   ]
  },
  {
   "cell_type": "code",
   "execution_count": null,
   "metadata": {
    "collapsed": false
   },
   "outputs": [],
   "source": [
    "pharm = {}\n",
    "with open('../input/de_cc_data.txt','r') as csvfile:\n",
    "    reader = csv.reader(csvfile, delimiter=',')\n",
    "    reader.next()\n",
    "    for row in reader:\n",
    "        med = str.upper(row[3])\n",
    "        if med not in pharm:\n",
    "            user_set = set()\n",
    "            if row[4] is not '':\n",
    "                cost = float(row[4])\n",
    "            else:\n",
    "                cost = 0\n",
    "            val = [user_set,cost]\n",
    "            pharm[med] = val\n",
    "            user_set.add(cleanName([row[1],row[2]]))\n",
    "        else:\n",
    "            val = pharm[med]\n",
    "            val[0].add(cleanName([row[1],row[2]]))\n",
    "            if row[4] is not '':\n",
    "                val[1] += float(row[4])\n",
    "\n",
    "with open('../output/top_cost_drug.txt','w+') as csvfile:\n",
    "    writer = csv.writer(csvfile)\n",
    "    writer.writerow(['drug_name','num_prescriber','total_cost'])\n",
    "    for rx,record in pharm.items():\n",
    "        writer.writerow([rx,len(record[0]),record[1]])"
   ]
  },
  {
   "cell_type": "code",
   "execution_count": null,
   "metadata": {
    "collapsed": true
   },
   "outputs": [],
   "source": []
  }
 ],
 "metadata": {
  "kernelspec": {
   "display_name": "Python 2",
   "language": "python",
   "name": "python2"
  },
  "language_info": {
   "codemirror_mode": {
    "name": "ipython",
    "version": 2
   },
   "file_extension": ".py",
   "mimetype": "text/x-python",
   "name": "python",
   "nbconvert_exporter": "python",
   "pygments_lexer": "ipython2",
   "version": "2.7.13"
  }
 },
 "nbformat": 4,
 "nbformat_minor": 2
}
